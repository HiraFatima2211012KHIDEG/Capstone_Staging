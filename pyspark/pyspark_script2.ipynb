{
 "cells": [
  {
   "cell_type": "code",
   "execution_count": 13,
   "id": "fba639d0-31b6-436c-847b-ce6c0d5bd6f2",
   "metadata": {},
   "outputs": [],
   "source": [
    "import pyspark\n",
    "from pyspark.sql import SparkSession\n",
    "from pyspark.sql.types import *\n",
    "from pyspark.sql.functions import *\n",
    "from pyspark.sql.streaming import StreamingQuery\n",
    "from pyspark.sql import SparkSession\n",
    "import pyspark.sql.functions as F\n",
    "import pyspark.sql.types as T\n",
    "from pyspark.sql.functions import *\n",
    "\n",
    "\n",
    "from pyspark.sql.functions import expr\n",
    "\n",
    "\n"
   ]
  },
  {
   "cell_type": "code",
   "execution_count": 14,
   "id": "c6d00b84-0cf0-43b8-b4b2-1567173eee75",
   "metadata": {},
   "outputs": [],
   "source": [
    " spark = (\n",
    "    SparkSession.builder.master(\"local[1]\")\n",
    "    .appName(\"Tutorial App\")\n",
    "    .config(\"spark.jars.packages\", \"org.apache.spark:spark-sql-kafka-0-10_2.12:3.3.1\")\n",
    "    .getOrCreate()\n",
    ")"
   ]
  },
  {
   "cell_type": "code",
   "execution_count": 15,
   "id": "0e12f038-abd3-4fe1-998f-c075dda8d17c",
   "metadata": {},
   "outputs": [],
   "source": [
    "df_carbonsense= spark.readStream \\\n",
    "                          .format(\"kafka\") \\\n",
    "                          .option(\"kafka.bootstrap.servers\", \"kafka:29092\") \\\n",
    "                          .option(\"subscribe\", \"carbonsense\")"
   ]
  },
  {
   "cell_type": "code",
   "execution_count": 16,
   "id": "af829be6-8665-4b2a-a22f-d0c20a69a13c",
   "metadata": {},
   "outputs": [],
   "source": [
    "df_carbonsense= df_carbonsense.load()"
   ]
  },
  {
   "cell_type": "code",
   "execution_count": 17,
   "id": "3ef39945-5ff2-4213-8870-7b9a83cc667a",
   "metadata": {},
   "outputs": [
    {
     "data": {
      "text/plain": [
       "[('key', 'binary'),\n",
       " ('value', 'binary'),\n",
       " ('topic', 'string'),\n",
       " ('partition', 'int'),\n",
       " ('offset', 'bigint'),\n",
       " ('timestamp', 'timestamp'),\n",
       " ('timestampType', 'int')]"
      ]
     },
     "execution_count": 17,
     "metadata": {},
     "output_type": "execute_result"
    }
   ],
   "source": [
    "df_carbonsense.dtypes\n"
   ]
  },
  {
   "cell_type": "code",
   "execution_count": 18,
   "id": "ab288db6-9264-49dc-aebe-18208c3424c9",
   "metadata": {},
   "outputs": [],
   "source": [
    "schema_carbonsense = StructType([\n",
    "    StructField(\"room_id\", StringType(), True),\n",
    "    StructField(\"co2\", StringType(), True),\n",
    "    StructField(\"timestamp\", TimestampType(), True)\n",
    "])"
   ]
  },
  {
   "cell_type": "code",
   "execution_count": 19,
   "id": "5c43b55d-5420-4dab-afc8-ab06abd03d56",
   "metadata": {},
   "outputs": [],
   "source": [
    "df_carbonsense= df_carbonsense.withColumn(\"message_content\", F.from_json(F.col(\"value\").cast(\"string\"),schema_carbonsense))\n"
   ]
  },
  {
   "cell_type": "code",
   "execution_count": 20,
   "id": "11f7cfb4-b4d2-4b76-b510-be41743af998",
   "metadata": {},
   "outputs": [],
   "source": [
    "df_carbonsense = df_carbonsense.selectExpr(\"CAST(value AS STRING)\")\n",
    "df_carbonsense = df_carbonsense.select(from_json(df_carbonsense.value, schema_carbonsense).alias(\"data\"))\n",
    "df_carbonsense = df_carbonsense.select(\"data.*\")\n"
   ]
  },
  {
   "cell_type": "code",
   "execution_count": 21,
   "id": "0d7cf99a-58f4-4fcf-a4d5-a94c40a82d11",
   "metadata": {},
   "outputs": [
    {
     "data": {
      "text/plain": [
       "DataFrame[room_id: string, co2: string, timestamp: timestamp]"
      ]
     },
     "execution_count": 21,
     "metadata": {},
     "output_type": "execute_result"
    }
   ],
   "source": [
    "df_carbonsense"
   ]
  },
  {
   "cell_type": "code",
   "execution_count": 22,
   "id": "3348e1b4-58aa-4a1f-b10d-dfb87245ed66",
   "metadata": {},
   "outputs": [],
   "source": [
    "df_moisturemate= spark.readStream \\\n",
    "                          .format(\"kafka\") \\\n",
    "                          .option(\"kafka.bootstrap.servers\", \"kafka:29092\") \\\n",
    "                          .option(\"subscribe\", \"moisturemate\")"
   ]
  },
  {
   "cell_type": "code",
   "execution_count": 23,
   "id": "0b0de229-a658-46a3-9a34-e7dc6253e02e",
   "metadata": {},
   "outputs": [],
   "source": [
    "df_moisturemate= df_moisturemate.load()"
   ]
  },
  {
   "cell_type": "code",
   "execution_count": 24,
   "id": "a9f4f4f4-f44d-4f99-a388-e091070c3396",
   "metadata": {},
   "outputs": [
    {
     "data": {
      "text/plain": [
       "[('key', 'binary'),\n",
       " ('value', 'binary'),\n",
       " ('topic', 'string'),\n",
       " ('partition', 'int'),\n",
       " ('offset', 'bigint'),\n",
       " ('timestamp', 'timestamp'),\n",
       " ('timestampType', 'int')]"
      ]
     },
     "execution_count": 24,
     "metadata": {},
     "output_type": "execute_result"
    }
   ],
   "source": [
    "df_moisturemate.dtypes\n"
   ]
  },
  {
   "cell_type": "code",
   "execution_count": 25,
   "id": "a0ef6f1d-d7e7-4333-b0b1-90a1e29604b5",
   "metadata": {},
   "outputs": [],
   "source": [
    "schema_moisturemate = StructType([\n",
    "    StructField(\"room_id\", StringType(), True),\n",
    "    StructField(\"timestamp\", TimestampType(), True),\n",
    "    StructField(\"humidity\", FloatType(), True),\n",
    "    StructField(\"humidity_ratio\", FloatType(), True),\n",
    "    \n",
    "])"
   ]
  },
  {
   "cell_type": "code",
   "execution_count": 26,
   "id": "7a511d95-487e-464a-940d-04a172822fec",
   "metadata": {},
   "outputs": [],
   "source": [
    "df_moisturemate= df_moisturemate.withColumn(\"message_content\", F.from_json(F.col(\"value\").cast(\"string\"),schema_moisturemate))\n"
   ]
  },
  {
   "cell_type": "code",
   "execution_count": 27,
   "id": "77410881-e75c-4ea3-ae7b-53dc132c8e11",
   "metadata": {},
   "outputs": [],
   "source": [
    "df_moisturemate = df_moisturemate.selectExpr(\"CAST(value AS STRING)\")\n",
    "df_moisturemate = df_moisturemate.select(from_json(df_moisturemate.value, schema_moisturemate).alias(\"data\"))\n",
    "df_moisturemate = df_moisturemate.select(\"data.*\")\n"
   ]
  },
  {
   "cell_type": "code",
   "execution_count": 28,
   "id": "1fbd8cf7-f422-47e8-9ca4-57899f3fcd53",
   "metadata": {},
   "outputs": [
    {
     "data": {
      "text/plain": [
       "DataFrame[room_id: string, timestamp: timestamp, humidity: float, humidity_ratio: float]"
      ]
     },
     "execution_count": 28,
     "metadata": {},
     "output_type": "execute_result"
    }
   ],
   "source": [
    "df_moisturemate"
   ]
  },
  {
   "cell_type": "code",
   "execution_count": 29,
   "id": "851b41a2-71aa-4c1c-858a-52a353adbedc",
   "metadata": {},
   "outputs": [],
   "source": [
    "df_join_df_carbonsense_and_df_moisturemate = df_carbonsense.join(df_moisturemate, on=[\"timestamp\", \"room_id\"], how='inner')"
   ]
  },
  {
   "cell_type": "code",
   "execution_count": 30,
   "id": "4e76d6f5-f30b-40e2-8717-3322e3f00952",
   "metadata": {},
   "outputs": [
    {
     "data": {
      "text/plain": [
       "DataFrame[timestamp: timestamp, room_id: string, co2: string, humidity: float, humidity_ratio: float]"
      ]
     },
     "execution_count": 30,
     "metadata": {},
     "output_type": "execute_result"
    }
   ],
   "source": [
    "df_join_df_carbonsense_and_df_moisturemate"
   ]
  },
  {
   "cell_type": "code",
   "execution_count": 31,
   "id": "84ab82c8-4736-4cd4-9665-4132071519fc",
   "metadata": {},
   "outputs": [],
   "source": [
    "df_luxmeter= spark.readStream \\\n",
    "                          .format(\"kafka\") \\\n",
    "                          .option(\"kafka.bootstrap.servers\", \"kafka:29092\") \\\n",
    "                          .option(\"subscribe\", \"luxmeter\")"
   ]
  },
  {
   "cell_type": "code",
   "execution_count": 32,
   "id": "b234bd95-69f5-47a3-bcd9-8c582961b27d",
   "metadata": {},
   "outputs": [],
   "source": [
    "df_luxmeter= df_luxmeter.load()"
   ]
  },
  {
   "cell_type": "code",
   "execution_count": 33,
   "id": "0ee90fd2-cd45-4d9e-a513-bc4fb621d57b",
   "metadata": {},
   "outputs": [],
   "source": [
    "schema_luxmeter = StructType([\n",
    "    StructField(\"room_id\", StringType(), True),\n",
    "    StructField(\"measurements\", MapType(StringType(), StringType() ), True)\n",
    "   \n",
    "])"
   ]
  },
  {
   "cell_type": "code",
   "execution_count": 34,
   "id": "3563dd32-9ced-4ac3-a927-9748dac1a9de",
   "metadata": {},
   "outputs": [],
   "source": [
    "df_luxmeter= df_luxmeter.withColumn(\"message_content\", F.from_json(F.col(\"value\").cast(\"string\"),schema_luxmeter))\n"
   ]
  },
  {
   "cell_type": "code",
   "execution_count": 35,
   "id": "27a88b16-9128-48b1-93dd-b089d05b4556",
   "metadata": {},
   "outputs": [],
   "source": [
    "df_luxmeter = df_luxmeter.selectExpr(\"CAST(value AS STRING)\")\n",
    "df_luxmeter = df_luxmeter.select(from_json(df_luxmeter.value, schema_luxmeter).alias(\"data\"))\n",
    "df_luxmeter = df_luxmeter.select(\"data.*\")\n"
   ]
  },
  {
   "cell_type": "code",
   "execution_count": 36,
   "id": "8e7bf883-56bc-4822-ae6d-975a030aa191",
   "metadata": {},
   "outputs": [],
   "source": [
    "df_luxmeter = df_luxmeter.withColumn(\"timestamp\",df_luxmeter.measurements[\"timestamp\"]) \\\n",
    "  .withColumn(\"light_level\",df_luxmeter.measurements[\"light_level\"]) \\\n",
    "  .drop(\"measurements\") \\\n",
    "  "
   ]
  },
  {
   "cell_type": "code",
   "execution_count": 37,
   "id": "2f0a21f4-a88b-4af3-9637-b9faeffffd06",
   "metadata": {},
   "outputs": [],
   "source": [
    "df_join_df_carbonsense_and_df_moisturemate_and_df_luxmeter = df_join_df_carbonsense_and_df_moisturemate.join(df_luxmeter, on=[\"timestamp\", \"room_id\"], how='inner')"
   ]
  },
  {
   "cell_type": "code",
   "execution_count": 38,
   "id": "fea669ad-791b-4595-8ddc-72f9f76abda5",
   "metadata": {},
   "outputs": [
    {
     "data": {
      "text/plain": [
       "DataFrame[timestamp: timestamp, room_id: string, co2: string, humidity: float, humidity_ratio: float, light_level: string]"
      ]
     },
     "execution_count": 38,
     "metadata": {},
     "output_type": "execute_result"
    }
   ],
   "source": [
    "df_join_df_carbonsense_and_df_moisturemate_and_df_luxmeter"
   ]
  },
  {
   "cell_type": "code",
   "execution_count": 39,
   "id": "b6a0cdb8-fe10-4a22-af6f-aa13a1745bad",
   "metadata": {},
   "outputs": [],
   "source": [
    "df_thermo= spark.readStream \\\n",
    "                          .format(\"kafka\") \\\n",
    "                          .option(\"kafka.bootstrap.servers\", \"kafka:29092\") \\\n",
    "                          .option(\"subscribe\", \"thermo\")"
   ]
  },
  {
   "cell_type": "code",
   "execution_count": 40,
   "id": "7d818650-893d-4c21-a738-475431ba45b8",
   "metadata": {},
   "outputs": [],
   "source": [
    "df_thermo= df_thermo.load()"
   ]
  },
  {
   "cell_type": "code",
   "execution_count": 41,
   "id": "4bbc7d56-3764-4ffe-ae23-4c39017161cb",
   "metadata": {},
   "outputs": [],
   "source": [
    "df_thermo = df_thermo.select(col(\"value\").cast(\"string\").alias(\"json_data\"))"
   ]
  },
  {
   "cell_type": "code",
   "execution_count": 42,
   "id": "166d4f9b-f773-43c7-a304-457edcdf1cdd",
   "metadata": {},
   "outputs": [],
   "source": [
    "schema_thermo = StructType([\n",
    "    StructField(\"timestamp\", MapType(StringType(), StringType())),\n",
    "    StructField(\"room_id\", MapType(StringType(), StringType())),\n",
    "    StructField(\"temperature\", MapType(StringType(), DoubleType()))\n",
    "])\n"
   ]
  },
  {
   "cell_type": "code",
   "execution_count": 43,
   "id": "3baa27c0-2efb-4be6-9510-dd333ff0a349",
   "metadata": {},
   "outputs": [],
   "source": [
    "df_thermo = df_thermo.select(from_json(col(\"json_data\"), schema_thermo).alias(\"data\"))"
   ]
  },
  {
   "cell_type": "code",
   "execution_count": 44,
   "id": "b0c0f2e0-2cf0-4dcb-b953-5ceaac84b688",
   "metadata": {},
   "outputs": [
    {
     "data": {
      "text/plain": [
       "DataFrame[data: struct<timestamp:map<string,string>,room_id:map<string,string>,temperature:map<string,double>>]"
      ]
     },
     "execution_count": 44,
     "metadata": {},
     "output_type": "execute_result"
    }
   ],
   "source": [
    "df_thermo"
   ]
  },
  {
   "cell_type": "code",
   "execution_count": 45,
   "id": "d7751b26-caa8-4619-8160-964c53933869",
   "metadata": {},
   "outputs": [],
   "source": [
    "timestamps = df_thermo.select(explode(\"data.timestamp\").alias(\"index\", \"timestamp\"))\n"
   ]
  },
  {
   "cell_type": "code",
   "execution_count": 46,
   "id": "7b5844a9-60c6-4877-a09d-6a2ca4162d49",
   "metadata": {},
   "outputs": [],
   "source": [
    "room_ids = df_thermo.select(explode(\"data.room_id\").alias(\"index\", \"room_id\"))\n"
   ]
  },
  {
   "cell_type": "code",
   "execution_count": 47,
   "id": "3179b1c0-aef6-435f-b615-ba26126e8c93",
   "metadata": {},
   "outputs": [],
   "source": [
    "temperatures = df_thermo.select(explode(\"data.temperature\").alias(\"index\", \"temperature\"))"
   ]
  },
  {
   "cell_type": "code",
   "execution_count": 48,
   "id": "90b90074-85a7-4757-a865-474063006aad",
   "metadata": {},
   "outputs": [],
   "source": [
    "df_thermo = timestamps.join(room_ids, on=\"index\").join(temperatures, on=\"index\")"
   ]
  },
  {
   "cell_type": "code",
   "execution_count": 49,
   "id": "3a2faccb-7034-48a0-8d3e-a87a8658dac6",
   "metadata": {},
   "outputs": [
    {
     "data": {
      "text/plain": [
       "DataFrame[index: string, timestamp: string, room_id: string, temperature: double]"
      ]
     },
     "execution_count": 49,
     "metadata": {},
     "output_type": "execute_result"
    }
   ],
   "source": [
    "df_thermo"
   ]
  },
  {
   "cell_type": "code",
   "execution_count": 50,
   "id": "57ce72c1-bcf7-4b6f-9d72-6eae4fe5387c",
   "metadata": {},
   "outputs": [],
   "source": [
    "df_thermo = df_thermo.drop(\"index\")\n"
   ]
  },
  {
   "cell_type": "code",
   "execution_count": 51,
   "id": "4cb683e2-7118-4c95-a58f-d7d51dc43860",
   "metadata": {},
   "outputs": [],
   "source": [
    "df_thermo = df_thermo.withColumn(\"temperature\", expr(\"(temperature - 32) * 5/9\"))\n"
   ]
  },
  {
   "cell_type": "code",
   "execution_count": 52,
   "id": "42d46635-db13-44b0-a7d4-f2a4b6256695",
   "metadata": {},
   "outputs": [],
   "source": [
    "df_merge_all_4_sensors = df_join_df_carbonsense_and_df_moisturemate_and_df_luxmeter.join(df_thermo, on=[\"timestamp\", \"room_id\"], how='inner')"
   ]
  },
  {
   "cell_type": "code",
   "execution_count": 54,
   "id": "84553093-2f56-4354-ac99-ec32b68e7340",
   "metadata": {},
   "outputs": [],
   "source": [
    "OUTPUT = df_merge_all_4_sensors.writeStream \\\n",
    "  .outputMode(\"append\") \\\n",
    "  .format(\"console\") \\\n",
    "  .start()"
   ]
  },
  {
   "cell_type": "code",
   "execution_count": 53,
   "id": "fd76e3b2-0710-4819-9bad-b927c8bbb9d5",
   "metadata": {},
   "outputs": [
    {
     "data": {
      "text/plain": [
       "<pyspark.sql.streaming.StreamingQuery at 0x7f200d7bc490>"
      ]
     },
     "execution_count": 53,
     "metadata": {},
     "output_type": "execute_result"
    }
   ],
   "source": [
    "(df_merge_all_4_sensors.writeStream\n",
    "  .format(\"kafka\")\n",
    "  .option(\"kafka.bootstrap.servers\", \"localhost:9092\")\n",
    "  .option(\"topic\", \"even\")\n",
    "  .option(\"checkpointLocation\", \"./checkpoint\")\n",
    "  .start())"
   ]
  },
  {
   "cell_type": "code",
   "execution_count": null,
   "id": "75fc4149-e120-4994-a7f9-57dcb646b18f",
   "metadata": {},
   "outputs": [],
   "source": []
  },
  {
   "cell_type": "code",
   "execution_count": null,
   "id": "29496a0c-9353-4fdd-a9e9-58767bb2f579",
   "metadata": {},
   "outputs": [],
   "source": []
  }
 ],
 "metadata": {
  "kernelspec": {
   "display_name": "Python 3 (ipykernel)",
   "language": "python",
   "name": "python3"
  },
  "language_info": {
   "codemirror_mode": {
    "name": "ipython",
    "version": 3
   },
   "file_extension": ".py",
   "mimetype": "text/x-python",
   "name": "python",
   "nbconvert_exporter": "python",
   "pygments_lexer": "ipython3",
   "version": "3.10.8"
  }
 },
 "nbformat": 4,
 "nbformat_minor": 5
}
